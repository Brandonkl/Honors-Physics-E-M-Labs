{
 "cells": [
  {
   "cell_type": "markdown",
   "metadata": {},
   "source": [
    "# Jupyter Notebook for PHYS-1250 Spring 2018 Lab 07 - AC Circuits"
   ]
  },
  {
   "cell_type": "markdown",
   "metadata": {},
   "source": [
    "This Jupyter Notebook is to be completed as your report for Lab 07. Use text cells to answer questions and code sections to input, fit, and plot data."
   ]
  },
  {
   "cell_type": "code",
   "execution_count": null,
   "metadata": {},
   "outputs": [],
   "source": [
    "#  Import necessary libraries for numerical computing.\n",
    "import numpy as np\n",
    "%matplotlib notebook  \n",
    "import matplotlib\n",
    "import matplotlib.pyplot as plt\n",
    "pi=3.14159"
   ]
  },
  {
   "cell_type": "markdown",
   "metadata": {},
   "source": [
    "### Module 31A"
   ]
  },
  {
   "cell_type": "markdown",
   "metadata": {
    "collapsed": true
   },
   "source": [
    "Edit the text cell below to display the relationship between the amplitude of the ac voltage applied to the RC circuit on Lab Manual page 104 and the amplitude of the current.  \n",
    "\n",
    "*  $I={V/X}$ where $X=R$ (fill in a function of R,C, $\\omega$ using symbols, not numbers)"
   ]
  },
  {
   "cell_type": "markdown",
   "metadata": {},
   "source": [
    "From question 3b on page 104- Edit the text below to display the angular frequency $\\omega_{1/2}$ at which the current is 1/2 of $V/R$.\n",
    "\n",
    "* $\\omega_{1/2}=1/2RC$ (fill in a function of R and C in Markdown)"
   ]
  },
  {
   "cell_type": "markdown",
   "metadata": {},
   "source": [
    "From question 3a on page 104 - INPUT THE MEASURED VALUES OF YOUR RESISTOR AND CAPACITOR IN THE CODE BOX BELOW."
   ]
  },
  {
   "cell_type": "code",
   "execution_count": null,
   "metadata": {},
   "outputs": [],
   "source": [
    "R=101   #input actual measured resistance here.\n",
    "C=102E-9   #input measured capacitance here.\n",
    "RC=R*C\n",
    "print (\"***The RC time constant is \",RC,\" seconds.***\")"
   ]
  },
  {
   "cell_type": "markdown",
   "metadata": {
    "collapsed": true
   },
   "source": [
    "Write some simple code below to calculate the frequency $f_{1/2}$ in Hz at which the current amplitude is 1/2 of its maximum value."
   ]
  },
  {
   "cell_type": "code",
   "execution_count": null,
   "metadata": {},
   "outputs": [],
   "source": [
    "# Enter code as described above.\n",
    "f_half=1/(4*3.1416*R*C) #  ??\n",
    "print (\"***f(1/2)=\",f_half,\"Hz\")"
   ]
  },
  {
   "cell_type": "markdown",
   "metadata": {},
   "source": [
    "Prepare your data in an Excel Spreadsheet that you will store as a .csv file. Column \"0\" is the frequency in Hz,  column \"1\" is the signal amplitude from the function generator, column \"2\" is the signal amplitude from the resistor, column \"3\" is the time difference between the function generator and the resistor voltage peaks."
   ]
  },
  {
   "cell_type": "code",
   "execution_count": null,
   "metadata": {},
   "outputs": [],
   "source": [
    "#I've written some code to read data from a .csv table.  You can still write out the data as two 1D arrays if you like. \n",
    "# Example follows.\n",
    "Dt=np.array([1,2,3,4,5])\n",
    "frequency=np.array([8,9,8,9,8])\n",
    "#The following line reads data from a PHYS1250Data07.csv data file that is stored at the path location shown.\n",
    "data07=np.genfromtxt(\"Book1.csv\",delimiter=\",\")\n",
    "print (data07)\n",
    "frequency=data07[:,0]  # Read frequency column\n",
    "Vfg=data07[:,1]        # Read the peak to peak voltage of the function generator.\n",
    "Vfg_avg=np.average(Vfg)\n",
    "Vr=data07[:,2]         # Read the pk to pk voltage of the resistor.\n",
    "Dt=data07[:,3]         # Read the time delay between current and voltage. (Current LEADS voltage ICE)\n",
    "RCGain=Vr/Vfg\n",
    "PhaseDiff=Dt*frequency*2*pi"
   ]
  },
  {
   "cell_type": "code",
   "execution_count": null,
   "metadata": {},
   "outputs": [],
   "source": [
    "# This section is a theoretical model based on your input parameters for a comparison plot.\n",
    "f_theory=np.arange(50,10000,50)\n",
    "RCGain_theory=R/(np.sqrt(R**2+(1/(2*pi*C*f_theory)**2)))"
   ]
  },
  {
   "cell_type": "code",
   "execution_count": null,
   "metadata": {},
   "outputs": [],
   "source": [
    "# This section plots measured and theoretical gain as a function of frequency\n",
    "plt.figure()\n",
    "plt.plot(frequency,RCGain)\n",
    "plt.plot(f_theory,RCGain_theory)\n",
    "plt.axis([0,10000,0,11])   # Adjust axis parameters as desired.\n",
    "plt.title(\"Gain vs. Frequency\")   # Add appropriate title and axis labels.\n",
    "plt.xlabel(\"Frequency (Hz)\")\n",
    "plt.ylabel(\"Gain Ratio\")\n",
    "plt.show()"
   ]
  },
  {
   "cell_type": "markdown",
   "metadata": {},
   "source": [
    "* * In this cell discuss your theoretical curve and compare it with the measured data. If there are systematic differences, try to explain their origins.\n",
    "\n",
    "MY TEXT: The theory and data do not come close to one another because I made all my data up without even trying to fake it.\n",
    "\n"
   ]
  },
  {
   "cell_type": "markdown",
   "metadata": {},
   "source": [
    "You can experimentally calculate the phase difference between current and voltage in two ways. \n",
    "\n",
    "1) $\\phi_{voltage}=cos^{-1}(V_R/V_{fg})$\n",
    "\n",
    "2) $\\phi_{time}=t_{delay} * Frequency * 2 * \\pi$\n",
    "\n",
    "The phase difference can also be calculated and plotted theoretically.  \n",
    "3) $\\Delta \\phi = tan^{-1}(1/(R \\omega C)$\n"
   ]
  },
  {
   "cell_type": "code",
   "execution_count": null,
   "metadata": {},
   "outputs": [],
   "source": [
    "#Code cell for calculating and plotting phase difference.\n",
    "PhaseDiffVoltage=  np.arccos(RCGain)  #Input your formula\n",
    "PhaseDiffTime=  PhaseDiff\n",
    "PhaseDiffTheory=np.arctan(1/(R*f_theory*2*pi*C))     \n",
    "plt.figure()\n",
    "plt.plot(frequency,PhaseDiffVoltage)  #Turn on these plots.\n",
    "plt.plot(frequency,PhaseDiffTime)     #Turn on these plots.\n",
    "plt.plot(f_theory,PhaseDiffTheory)\n",
    "plt.axis([0,10000,-1.6,1.6])   # Adjust axis parameters as desired.\n",
    "plt.title(\"Phase Difference vs. Frequency\")   # Add appropriate title and axis labels.\n",
    "plt.xlabel(\"Frequency (Hz)\")\n",
    "plt.ylabel(\"Phase (rad)\")\n",
    "plt.show()"
   ]
  },
  {
   "cell_type": "markdown",
   "metadata": {},
   "source": [
    "1) Compare the phase as measured by the two technicques. Which one do you think has less uncertainty? Why?\n",
    "\n",
    "2) Discuss whether the behavior of the phase with frequency is as you expect from theory."
   ]
  },
  {
   "cell_type": "markdown",
   "metadata": {},
   "source": [
    "# LRC Circuit"
   ]
  },
  {
   "cell_type": "code",
   "execution_count": null,
   "metadata": {},
   "outputs": [],
   "source": [
    "# Ive written some code to read data from a .csv table.  You can still write out the data as two 1D arrays if you like.\n",
    "position=np.array([1,2,3,4,5])\n",
    "field=np.array([8,9,8,9,8])\n",
    "#The following line reads data from a PHYS1250Data07.csv data file that is stored at the path location shown.\n",
    "data07rlc=np.genfromtxt(\"data.csv\",delimiter=\",\")\n",
    "frequencyrlc=data07rlc[:,0]  # Read frequency column\n",
    "Vfgrlc=data07rlc[:,1]        # Read the peak to peak voltage of the function generator.\n",
    "Vrlc=data07rlc[:,2]         # Read the pk to pk voltage of the resistor.\n",
    "Dtrlc=data07rlc[:,3]         # Read the time delay between current and voltage. (Current LEADS voltage ICE)\n",
    "RLCPhaseDiff=Dtrlc*frequencyrlc*2*pi"
   ]
  },
  {
   "cell_type": "markdown",
   "metadata": {},
   "source": [
    "Edit this cell to create a Markdown equation for the amplitude and phase of the current through an RLC circuit in terms of $V_{applied}$, R, L, C, and $\\omega$.\n",
    "\n",
    "$$I=V_{applied}/R*sin(\\omega*t-\\theta)$$\n",
    "\n",
    "$$\\theta=\\sqrt(R^2+(\\omega*L-1/(\\omega*c))^2)$$"
   ]
  },
  {
   "cell_type": "code",
   "execution_count": null,
   "metadata": {},
   "outputs": [],
   "source": [
    "# This section is a theoretical model based on your input parameters for a comparison plot.\n",
    "R=100     # INPUT resistance in your RLC circuit\n",
    "L=0.034   # INPUT inductance in your RLC circuit\n",
    "C=100E-9   #INPUT capacitance in your RLC circuit\n",
    "f_theory=np.arange(50,10000,50)\n",
    "omega=2*pi*f_theory\n",
    "XC=1/(omega*C)\n",
    "XL=omega*L\n",
    "Vrlc_theory=Vfg_avg*R/(np.sqrt(R**2+(XL-XC)**2))\n",
    "RLCPhaseDiffTheory=np.arctan((XL-XC)/R)"
   ]
  },
  {
   "cell_type": "code",
   "execution_count": null,
   "metadata": {},
   "outputs": [],
   "source": [
    "#Edit this cell to plot your theoretical function and your measured data for current amplitude as a function of frequency.\n",
    "plt.figure()\n",
    "plt.plot(frequencyrlc,RLCPhaseDiff)\n",
    "plt.plot(f_theory,RLCPhaseDiffTheory)\n",
    "plt.axis([0,10000,0,11])   # Adjust axis parameters as desired.\n",
    "plt.title(\"TITLE\")   # Add appropriate title and axis labels.\n",
    "plt.xlabel(\"AXIS LABEL\")\n",
    "plt.ylabel(\"AXIS LABEL\")\n",
    "plt.show()"
   ]
  },
  {
   "cell_type": "markdown",
   "metadata": {},
   "source": [
    "* * In this cell compare your theoretical curve with the measured data. If there are systematic differences, try to explain their origins.\n",
    "\n",
    "MY TEXT: The theory and data do not come close to one another because I made all my data up without even trying to fake it.\n",
    "\n"
   ]
  },
  {
   "cell_type": "code",
   "execution_count": null,
   "metadata": {},
   "outputs": [],
   "source": [
    "#Edit this cell to plot your theoretical calculation and your measured data for current amplitude as a function of frequency.\n",
    "plt.figure()\n",
    "plt.plot(frequencyrlc,Vrlc)\n",
    "plt.plot(f_theory,Vrlc_theory)\n",
    "plt.axis([0,10000,0,11])   # Adjust axis parameters as desired.\n",
    "plt.title(\"TITLE\")   # Add appropriate title and axis labels.\n",
    "plt.xlabel(\"AXIS LABEL\")\n",
    "plt.ylabel(\"AXIS LABEL\")\n",
    "plt.show()"
   ]
  },
  {
   "cell_type": "markdown",
   "metadata": {},
   "source": [
    "* * In this cell compare your theoretical curve with the measured data. If there are systematic differences, try to explain their origins.\n",
    "\n",
    "MY TEXT: The theory and data do not come close to one another because I made all my data up without even trying to fake it.\n"
   ]
  },
  {
   "cell_type": "markdown",
   "metadata": {},
   "source": [
    "# When you are done. Print this notebook to a pdf file and upload it to the assignment box in lms for this course."
   ]
  },
  {
   "cell_type": "code",
   "execution_count": null,
   "metadata": {},
   "outputs": [],
   "source": []
  }
 ],
 "metadata": {
  "kernelspec": {
   "display_name": "Python 2",
   "language": "python",
   "name": "python2"
  },
  "language_info": {
   "codemirror_mode": {
    "name": "ipython",
    "version": 2
   },
   "file_extension": ".py",
   "mimetype": "text/x-python",
   "name": "python",
   "nbconvert_exporter": "python",
   "pygments_lexer": "ipython2",
   "version": "2.7.15"
  }
 },
 "nbformat": 4,
 "nbformat_minor": 2
}

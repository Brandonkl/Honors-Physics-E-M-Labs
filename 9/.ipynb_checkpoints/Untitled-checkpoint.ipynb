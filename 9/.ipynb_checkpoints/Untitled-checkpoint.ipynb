{
 "cells": [
  {
   "cell_type": "markdown",
   "metadata": {},
   "source": [
    "Part B no. 2"
   ]
  },
  {
   "cell_type": "code",
   "execution_count": 10,
   "metadata": {},
   "outputs": [],
   "source": [
    "# kleinb2@rpi.edu brezal@rpi.edu rosenj7@rpi.edu\n",
    "import numpy as np\n",
    "import matplotlib.pyplot as plt"
   ]
  },
  {
   "cell_type": "code",
   "execution_count": 11,
   "metadata": {},
   "outputs": [
    {
     "data": {
      "image/png": "[encoded data removed]",
      "text/plain": [
       "<Figure size 432x288 with 1 Axes>"
      ]
     },
     "metadata": {
      "needs_background": "light"
     },
     "output_type": "display_data"
    }
   ],
   "source": [
    "objectDist = [170, 300, 400, 500, 340]\n",
    "imageDist = [770-i for i in objectDist] #distances always sum to 770 mm\n",
    "dotDist = [50, 20, 11, 10, 17.5]\n",
    "orientation = [1, 1, 1, 1, 1] # 1 represents upright, -1 represents inverted\n",
    "plt.figure()\n",
    "plt.plot(\"\"\"put stuff here\"\"\")\n",
    "plt.title(\"\")   # Add appropriate title and axis labels.\n",
    "plt.xlabel(\"\")\n",
    "plt.ylabel(\"\")\n",
    "plt.show()"
   ]
  },
  {
   "cell_type": "markdown",
   "metadata": {},
   "source": [
    "Part C no. 1 - "
   ]
  },
  {
   "cell_type": "code",
   "execution_count": 12,
   "metadata": {},
   "outputs": [],
   "source": [
    "x = .81\n",
    "y = [.503, .59, .5, .82, .51, .58, .77]\n",
    "aplha = 60 #degrees\n",
    "angles = [np.arctan(i/x) for i in y]"
   ]
  }
 ],
 "metadata": {
  "kernelspec": {
   "display_name": "Python 2",
   "language": "python",
   "name": "python2"
  },
  "language_info": {
   "codemirror_mode": {
    "name": "ipython",
    "version": 2
   },
   "file_extension": ".py",
   "mimetype": "text/x-python",
   "name": "python",
   "nbconvert_exporter": "python",
   "pygments_lexer": "ipython2",
   "version": "2.7.15"
  }
 },
 "nbformat": 4,
 "nbformat_minor": 2
}
